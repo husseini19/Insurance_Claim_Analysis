{
 "cells": [
  {
   "cell_type": "markdown",
   "metadata": {},
   "source": [
    "# **Claims Severity Analysis**"
   ]
  },
  {
   "cell_type": "markdown",
   "metadata": {},
   "source": [
    "## DSA 6100 Final Project"
   ]
  },
  {
   "cell_type": "markdown",
   "metadata": {},
   "source": [
    "### Completed by:\n",
    "Karim Al Zeer Alhusaini\n",
    "\n",
    "Nalini Kethineni"
   ]
  },
  {
   "cell_type": "markdown",
   "metadata": {},
   "source": [
    "________________________________________________________________________________________________________________________"
   ]
  },
  {
   "cell_type": "markdown",
   "metadata": {},
   "source": [
    "#### Loading Required Libraries"
   ]
  },
  {
   "cell_type": "code",
   "execution_count": 1,
   "metadata": {},
   "outputs": [],
   "source": [
    "## Libraries ---------------------------------\n",
    "import matplotlib.pyplot as plt\n",
    "import numpy as np\n",
    "import pandas as pd\n",
    "import seaborn as sns\n",
    "import matplotlib.cm as cm\n",
    "import warnings; \n",
    "warnings.filterwarnings(\"ignore\") # ignore warnings for the purpose of readability\n",
    "\n",
    "## Sci-Kit Learn\n",
    "from sklearn import linear_model\n",
    "from sklearn import svm\n",
    "from sklearn.ensemble import RandomForestRegressor\n",
    "from sklearn.model_selection import GridSearchCV\n",
    "from sklearn.decomposition import PCA\n",
    "from sklearn.model_selection import train_test_split\n",
    "from sklearn.preprocessing import LabelEncoder\n",
    "from sklearn.utils import shuffle\n",
    "\n",
    "## Tensorflow\n",
    "import tensorflow as tf\n",
    "from tensorflow import keras\n",
    "from tensorflow.keras.models import Sequential\n",
    "from tensorflow.keras.layers import Dense, Activation, Dropout\n",
    "from tensorflow.keras.optimizers import SGD, Adam\n",
    "from sklearn.metrics import mean_absolute_error"
   ]
  },
  {
   "cell_type": "markdown",
   "metadata": {},
   "source": [
    "#### Uploading Data"
   ]
  },
  {
   "cell_type": "code",
   "execution_count": 2,
   "metadata": {},
   "outputs": [],
   "source": [
    "## Uploading data\n",
    "tData = pd.read_csv(\"train.csv\")\n",
    "trainData = tData.loc[tData['loss'] <= 30000]\n",
    "#act_testData = pd.read_csv(\"test.csv\")"
   ]
  },
  {
   "cell_type": "markdown",
   "metadata": {},
   "source": [
    "#### Remove cont12 due to high correlation"
   ]
  },
  {
   "cell_type": "code",
   "execution_count": 3,
   "metadata": {},
   "outputs": [],
   "source": [
    "## Removing unnecessary cont12 variables\n",
    "trainData.drop('cont12',axis=1,inplace=True)\n",
    "#act_testData.drop('cont12',axis=1,inplace=True)"
   ]
  },
  {
   "cell_type": "code",
   "execution_count": 4,
   "metadata": {},
   "outputs": [],
   "source": [
    "## Copying data for one-hot encoding\n",
    "OHE_TrainDataCopy = trainData\n",
    "#OHE_testDataCopy = act_testData"
   ]
  },
  {
   "cell_type": "markdown",
   "metadata": {},
   "source": [
    "#### Remove ID Index variable"
   ]
  },
  {
   "cell_type": "code",
   "execution_count": 5,
   "metadata": {},
   "outputs": [],
   "source": [
    "## Remove ID variable since it is only an index\n",
    "trainData.drop('id',axis=1,inplace=True)\n",
    "#testDataIDs = act_testData['id']\n",
    "#act_testData.drop('id',axis=1,inplace=True)"
   ]
  },
  {
   "cell_type": "markdown",
   "metadata": {},
   "source": [
    "#### Plotting Data Distributions"
   ]
  },
  {
   "cell_type": "code",
   "execution_count": 6,
   "metadata": {},
   "outputs": [],
   "source": [
    "sns.set(style=\"whitegrid\", color_codes=True)\n",
    "dftrain = pd.read_csv(\"train.csv\")\n",
    "\n",
    "# Get Categorical Columns\n",
    "nonnumcols=[]\n",
    "for col in dftrain.columns:\n",
    "    if col.startswith('cat'):\n",
    "        nonnumcols.append(col)\n",
    "\n",
    "# Get Categorical Columns\n",
    "numcols=[]\n",
    "for col in dftrain.columns:\n",
    "    if col.startswith('cont'):\n",
    "        numcols.append(col)"
   ]
  },
  {
   "cell_type": "markdown",
   "metadata": {},
   "source": [
    "#### Plotting Categorical Data Distributions"
   ]
  },
  {
   "cell_type": "code",
   "execution_count": null,
   "metadata": {},
   "outputs": [],
   "source": [
    "ncol = 4\n",
    "nrow = 4\n",
    "for i in range(nrow):\n",
    "    fig,axs = plt.subplots(nrows=1,ncols=ncol,sharey=True,figsize=(8, 5))\n",
    "    cols = nonnumcols[i*ncol:ncol*(i+1)]\n",
    "    for i in range(len(axs)):\n",
    "        axs[i].set(yscale=\"log\")\n",
    "        sns.boxplot(x=cols[i], y=\"loss\", data=dftrain, ax=axs[i], \n",
    "                    palette=\"Set3\").set_title(cols[i] + \" Distribution\", weight='bold').set_fontsize('12')\n",
    "        axs[i].set(xlabel=cols[i], ylabel='log(loss)')"
   ]
  },
  {
   "cell_type": "markdown",
   "metadata": {},
   "source": [
    "#### Plotting Continuous Data Densities"
   ]
  },
  {
   "cell_type": "code",
   "execution_count": null,
   "metadata": {},
   "outputs": [],
   "source": [
    "sns.set(style=\"whitegrid\", color_codes=True)\n",
    "ncol = 7\n",
    "nrow = 2\n",
    "for i in range(nrow):\n",
    "    fig,axs = plt.subplots(nrows=1,ncols=ncol,sharey=True,figsize=(14, 5))\n",
    "    cols = numcols[i*ncol:ncol*(i+1)]\n",
    "    for i in range(len(axs)):\n",
    "        sns.distplot(dftrain[cols[i]], ax=axs[i], hist=False, \n",
    "                     color=\"y\").set_title(cols[i] + \" Distribution\", weight='bold').set_fontsize('11')\n",
    "        xlabel=cols[i]\n",
    "        axs[i].set(xlabel=xlabel, ylabel='Density')"
   ]
  },
  {
   "cell_type": "markdown",
   "metadata": {},
   "source": [
    "#### One Hot Encoding of data"
   ]
  },
  {
   "cell_type": "code",
   "execution_count": 7,
   "metadata": {},
   "outputs": [],
   "source": [
    "## Encoding all categorical data\n",
    "\n",
    "# Categorial encode data both by\n",
    "#   - Label encoding ([A,B,B,C] -> [1,2,2,3])\n",
    "#   - One-hot-encoding: creates dummy variables ([A,B,B,C] -> [A=[1,0,0,0], B=[0,1,1,0], C=[0,0,0,1]])\n",
    "\n",
    "## Create an encoding function\n",
    "class MultiColumnLabelEncoder:\n",
    "    def __init__(self,columns = None):\n",
    "        self.columns = columns # array of column names to encode\n",
    "\n",
    "    def fit(self,X,y=None):\n",
    "        return self # not relevant here\n",
    "\n",
    "    def transform(self,X):\n",
    "        '''\n",
    "        Transforms columns of X specified in self.columns using\n",
    "        LabelEncoder(). If no columns specified, transforms all\n",
    "        columns in X.\n",
    "        '''\n",
    "        output = X.copy()\n",
    "        if self.columns is not None:\n",
    "            for col in self.columns:\n",
    "                output[col] = LabelEncoder().fit_transform(output[col])\n",
    "        else:\n",
    "            for colname,col in output.iteritems():\n",
    "                output[colname] = LabelEncoder().fit_transform(col)\n",
    "        return output\n",
    "\n",
    "    def fit_transform(self,X,y=None):\n",
    "        return self.fit(X,y).transform(X)\n",
    "\n",
    "\n",
    "# 1- Concatenate training and testing data\n",
    "#Data = pd.concat([trainData, act_testData])\n",
    "Data = trainData\n",
    "\n",
    "# 2- Encode all categorical variables\n",
    "OneHotEncoded_Data = pd.get_dummies(Data)\n",
    "columns2encode = []\n",
    "for i in range(116):\n",
    "    columns2encode.append(list(Data)[i])\n",
    "Data = MultiColumnLabelEncoder(columns2encode).fit_transform(Data)"
   ]
  },
  {
   "cell_type": "markdown",
   "metadata": {},
   "source": [
    "#### Split Data into Training and Testing Sets"
   ]
  },
  {
   "cell_type": "code",
   "execution_count": 8,
   "metadata": {},
   "outputs": [],
   "source": [
    "# 3- Split data into training and testing again\n",
    "#   *3.a one-hot-encoding\n",
    "OneHotEncoded_trainData = OneHotEncoded_Data[:trainData.shape[0]]\n",
    "#OneHotEncoded_testData = OneHotEncoded_Data[trainData.shape[0]:]\n",
    "#OneHotEncoded_testData.drop('loss',axis=1,inplace=True)\n",
    "#    *3.b label encoding ([A,B,B,C] -> [1,2,2,3])\n",
    "trainData = Data[:trainData.shape[0]]\n",
    "#testData = Data[trainData.shape[0]:]\n",
    "#testData.drop('loss',axis=1,inplace=True)\n",
    "\n",
    "# 4- Splitting into training, test and validation set 80/20\n",
    "\n",
    "#  One-hot-encoding\n",
    "OneHotEncoded_y_trainData = OneHotEncoded_trainData['loss']\n",
    "OneHotEncoded_X_trainData = OneHotEncoded_trainData[OneHotEncoded_trainData.columns.difference(['loss'])]\n",
    "OneHotEncoded_X_train, OneHotEncoded_X_test, OneHotEncoded_y_train, OneHotEncoded_y_test = \\\n",
    "train_test_split(OneHotEncoded_X_trainData, OneHotEncoded_y_trainData, test_size=0.2, random_state=20)\n",
    "\n",
    "#  Label encoding\n",
    "y_trainData = trainData['loss']\n",
    "X_trainData = trainData[trainData.columns.difference(['loss'])]\n",
    "X_train, X_test, y_train, y_test = train_test_split(X_trainData, y_trainData, test_size=0.2, random_state=20)"
   ]
  },
  {
   "cell_type": "markdown",
   "metadata": {},
   "source": [
    "#### Correlation Matrix"
   ]
  },
  {
   "cell_type": "code",
   "execution_count": 9,
   "metadata": {},
   "outputs": [
    {
     "data": {
      "text/plain": [
       "[Text(0, 0.5, 'cont1'),\n",
       " Text(0, 1.5, 'cont10'),\n",
       " Text(0, 2.5, 'cont11'),\n",
       " Text(0, 3.5, 'cont13'),\n",
       " Text(0, 4.5, 'cont14'),\n",
       " Text(0, 5.5, 'cont2'),\n",
       " Text(0, 6.5, 'cont3'),\n",
       " Text(0, 7.5, 'cont4'),\n",
       " Text(0, 8.5, 'cont5'),\n",
       " Text(0, 9.5, 'cont6'),\n",
       " Text(0, 10.5, 'cont7'),\n",
       " Text(0, 11.5, 'cont8'),\n",
       " Text(0, 12.5, 'cont9')]"
      ]
     },
     "execution_count": 9,
     "metadata": {},
     "output_type": "execute_result"
    },
    {
     "data": {
      "image/png": "[encoded data removed]",
      "text/plain": [
       "<Figure size 720x720 with 2 Axes>"
      ]
     },
     "metadata": {},
     "output_type": "display_data"
    }
   ],
   "source": [
    "## Correlation Matrix\n",
    "f,ax = plt.subplots(figsize=(10, 10))\n",
    "x_cont = X_trainData.iloc[:,116:129]\n",
    "corr = x_cont.corr()\n",
    "mask = np.triu(np.ones_like(corr, dtype=np.bool))\n",
    "sns.heatmap(corr, annot=True, mask=mask, linewidths=.5,ax=ax, cmap=\"YlGnBu\", \n",
    "            square=True,  cbar_kws={\"shrink\": .5})\n",
    "ax.set_title('Continuous Feature Correlation Matrix', fontsize=18, fontweight='bold')\n",
    "ax.set_xticklabels(ax.get_xticklabels(), rotation=45,\n",
    "    horizontalalignment='right')\n",
    "ax.set_yticklabels(ax.get_yticklabels(), rotation=0,\n",
    "    horizontalalignment='right')"
   ]
  },
  {
   "cell_type": "markdown",
   "metadata": {},
   "source": [
    "#### Distributions of Target Variable"
   ]
  },
  {
   "cell_type": "code",
   "execution_count": 10,
   "metadata": {},
   "outputs": [
    {
     "data": {
      "image/png": "[encoded data removed]",
      "text/plain": [
       "<Figure size 432x288 with 1 Axes>"
      ]
     },
     "metadata": {},
     "output_type": "display_data"
    }
   ],
   "source": [
    "## Log transformation for output variables\n",
    "\n",
    "## Distribution before log transformation\n",
    "plt.hist(y_train,50,color=\"#ce1214\")\n",
    "plt.xlabel(\"Target (Loss)\",  weight='bold').set_fontsize('13')\n",
    "plt.title(\"Target Variable Distribution Before Transformation\",  weight='bold').set_fontsize('14')\n",
    "plt.show()"
   ]
  },
  {
   "cell_type": "markdown",
   "metadata": {},
   "source": [
    "#### Distribution of Log Transformed Target Variable"
   ]
  },
  {
   "cell_type": "code",
   "execution_count": 11,
   "metadata": {},
   "outputs": [
    {
     "data": {
      "image/png": "[encoded data removed]",
      "text/plain": [
       "<Figure size 432x288 with 1 Axes>"
      ]
     },
     "metadata": {},
     "output_type": "display_data"
    }
   ],
   "source": [
    "## Distribution after log transformation\n",
    "y_train_log = np.log(y_train)\n",
    "y_test_log = np.log(y_test)\n",
    "plt.hist(y_train_log,50,color=\"#ce1214\")\n",
    "plt.xlabel(\"log(Target Loss)\",  weight='bold').set_fontsize('13')\n",
    "plt.title(\"Target Variable Distribution After  LogTransformation\",  weight='bold').set_fontsize('14')\n",
    "plt.show()"
   ]
  },
  {
   "cell_type": "markdown",
   "metadata": {},
   "source": [
    "#### Principal Component Analysis"
   ]
  },
  {
   "cell_type": "code",
   "execution_count": null,
   "metadata": {},
   "outputs": [],
   "source": [
    "## Principal Component Analysis - Dimensionality Reduction\n",
    "pca = PCA(n_components=600).fit(OneHotEncoded_X_train)\n",
    "pca2 = pca.transform(OneHotEncoded_X_train)\n",
    "print('Explained variation per principal component: {}'.format(pca.explained_variance_ratio_))\n",
    "plt.plot(np.cumsum(pca.explained_variance_ratio_))\n",
    "plt.xlabel(\"# of Principal Components\",  weight='bold').set_fontsize('13')\n",
    "plt.ylabel(\"% of Variance Explained\",  weight='bold').set_fontsize('13')\n",
    "plt.title(\"% Variance Explained by PC\",  weight='bold').set_fontsize('14')"
   ]
  },
  {
   "cell_type": "markdown",
   "metadata": {},
   "source": [
    "#### Plotting PCA Chart"
   ]
  },
  {
   "cell_type": "code",
   "execution_count": null,
   "metadata": {},
   "outputs": [],
   "source": [
    "## Plotting the PCA\n",
    "plt.subplots(figsize=(11, 9))\n",
    "plt.scatter(pca2[:,0],pca2[:,1],cmap=cm.tab20,c = y_train_log,s=10)\n",
    "plt.xlabel('PC 1',  weight='bold').set_fontsize('13')\n",
    "plt.ylabel('PC 2',  weight='bold').set_fontsize('13')\n",
    "plt.title('Principal Component Analysis',  weight='bold').set_fontsize('14')\n",
    "cbar = plt.colorbar()\n",
    "cbar.set_label(\"log-loss\")\n",
    "plt.show()"
   ]
  },
  {
   "cell_type": "markdown",
   "metadata": {},
   "source": [
    "#### Split Data into Training and Validation Sets"
   ]
  },
  {
   "cell_type": "code",
   "execution_count": null,
   "metadata": {},
   "outputs": [],
   "source": [
    "# Split data into training set (80%) and testing set (20%)\n",
    "X_train_, X_val_, y_train_log_, y_val_log_ = train_test_split(\n",
    "    X_train, y_train_log , test_size=0.2, random_state=20)"
   ]
  },
  {
   "cell_type": "markdown",
   "metadata": {},
   "source": [
    "#### Model 1: Linear Regression"
   ]
  },
  {
   "cell_type": "code",
   "execution_count": 12,
   "metadata": {},
   "outputs": [
    {
     "name": "stdout",
     "output_type": "stream",
     "text": [
      "--------------------------------------------------------------\n",
      "Results from simple regression on the multi-labeled dataset:\n",
      "Training MAE using log transformation: 1292.111686606511\n",
      "Test MAE using log transformation: 1286.7015046116433\n",
      "--------------------------------------------------------------\n"
     ]
    }
   ],
   "source": [
    "## Simple Linear Regression\n",
    "\n",
    "# Multi-labeled dataset with log(Loss) as an output\n",
    "reg = linear_model.LinearRegression(fit_intercept=False, normalize=True)\n",
    "reg.fit(X_train, y_train_log)\n",
    "y_pred_train_log = reg.predict(X_train)\n",
    "y_pred_test_log = reg.predict(X_test)\n",
    "print('--------------------------------------------------------------')\n",
    "print(\"Results from simple regression on the multi-labeled dataset:\")\n",
    "print('Training MAE using log transformation:', \n",
    "      np.average(abs(np.exp(y_train_log)-np.exp(y_pred_train_log))))\n",
    "print('Test MAE using log transformation:', \n",
    "      np.average(abs(np.exp(y_test_log)-np.exp(y_pred_test_log))))\n",
    "print('--------------------------------------------------------------')"
   ]
  },
  {
   "cell_type": "code",
   "execution_count": 13,
   "metadata": {},
   "outputs": [],
   "source": [
    "sss = reg.score(X_train, y_train_log)"
   ]
  },
  {
   "cell_type": "code",
   "execution_count": 14,
   "metadata": {},
   "outputs": [
    {
     "data": {
      "text/plain": [
       "0.4683169273130491"
      ]
     },
     "execution_count": 14,
     "metadata": {},
     "output_type": "execute_result"
    }
   ],
   "source": [
    "sss"
   ]
  },
  {
   "cell_type": "code",
   "execution_count": 15,
   "metadata": {},
   "outputs": [
    {
     "data": {
      "image/png": "[encoded data removed]",
      "text/plain": [
       "<Figure size 432x288 with 1 Axes>"
      ]
     },
     "metadata": {},
     "output_type": "display_data"
    }
   ],
   "source": [
    "# Plotting Actual vs Predicted \n",
    "\n",
    "# Testing Set\n",
    "plt.scatter(np.exp(y_test_log), np.exp(y_pred_test_log),  color='gray')\n",
    "plt.xlabel('Actual Test Value',  weight='bold').set_fontsize('13')\n",
    "plt.ylabel('Predicted Test Value',  weight='bold').set_fontsize('13')\n",
    "plt.title('Actual vs Predicted on Test Data',  weight='bold').set_fontsize('14')\n",
    "# Training Set\n",
    "#plt.scatter(np.exp(y_train_log), np.exp(y_pred_train_log),  color='gray')\n",
    "plt.show()"
   ]
  },
  {
   "cell_type": "code",
   "execution_count": null,
   "metadata": {},
   "outputs": [],
   "source": [
    "# Training Set\n",
    "plt.scatter(np.exp(y_train_log), np.exp(y_pred_train_log),  color='red')\n",
    "plt.xlabel('Actual Training Value',  weight='bold').set_fontsize('13')\n",
    "plt.ylabel('Predicted Training Value',  weight='bold').set_fontsize('13')\n",
    "plt.title('Actual vs Predicted on Training Data',  weight='bold').set_fontsize('14')\n",
    "plt.show()"
   ]
  },
  {
   "cell_type": "markdown",
   "metadata": {},
   "source": [
    "#### Model 1-b: PC Regression"
   ]
  },
  {
   "cell_type": "code",
   "execution_count": 17,
   "metadata": {},
   "outputs": [],
   "source": [
    "OneHotEncoded_X_train, OneHotEncoded_X_val, y_train_log_, y_val_log = train_test_split(\n",
    "    OneHotEncoded_X_trainData, OneHotEncoded_y_trainData, test_size=0.2, random_state = 20)\n",
    "dimensions = np.array([600])\n",
    "DIM_REG_train_error = np.zeros(dimensions.shape[0])\n",
    "DIM_REG_val_error = np.zeros(dimensions.shape[0])\n",
    "for d in range(dimensions.shape[0]):\n",
    "\tpca = PCA(n_components=dimensions[d]).fit(OneHotEncoded_X_trainData)\n",
    "\tXD_REG_train = pca.transform(OneHotEncoded_X_train)\n",
    "\tXD_REG_val = pca.transform(OneHotEncoded_X_val)\n",
    "\n",
    "\treg = linear_model.LinearRegression()\n",
    "\treg.fit(XD_REG_train, y_train_log)\n",
    "\ty_pred_train_log = reg.predict(XD_REG_train)\n",
    "\ty_pred_val_log = reg.predict(XD_REG_val)\n",
    "\tDIM_REG_train_error[d] = np.average(abs(np.exp(y_train_log)-np.exp(y_pred_train_log)))\n",
    "\tDIM_REG_val_error[d] = np.average(abs(y_val_log-np.exp(y_pred_val_log)))\n"
   ]
  },
  {
   "cell_type": "code",
   "execution_count": 18,
   "metadata": {},
   "outputs": [
    {
     "data": {
      "text/plain": [
       "0.51984978661442"
      ]
     },
     "execution_count": 18,
     "metadata": {},
     "output_type": "execute_result"
    }
   ],
   "source": [
    "reg.score(XD_REG_train, y_train_log)"
   ]
  },
  {
   "cell_type": "code",
   "execution_count": null,
   "metadata": {},
   "outputs": [],
   "source": [
    "# Plotting PC Regression\n",
    "plt.plot(dimensions[[0,1,2,3,4,5,6]],DIM_REG_train_error[[0,1,2,3,4,5,6]], label=\"Training Error\")\n",
    "plt.plot(dimensions[[0,1,2,3,4,5,6]],DIM_REG_val_error[[0,1,2,3,4,5,6]], label=\"Validation Error\")\n",
    "plt.xlabel('# of Principal Components Used')\n",
    "plt.ylabel('Mean Absoulte Error')\n",
    "plt.title('Principal Component Regression',  weight='bold').set_fontsize('14')\n",
    "plt.legend()\n",
    "plt.show()"
   ]
  },
  {
   "cell_type": "markdown",
   "metadata": {},
   "source": [
    "#### Model 2: Ridge & Lasso Regressions"
   ]
  },
  {
   "cell_type": "code",
   "execution_count": null,
   "metadata": {},
   "outputs": [],
   "source": [
    "## Shrinkage Methods: Ridge & Lasso Regressions\n",
    "def plot_hyp_param_search(alphas, train_MAE, val_MAE, title):\n",
    "    plt.plot(np.log10(alphas),train_MAE,label='Training MAE')\n",
    "    plt.plot(np.log10(alphas),val_MAE,label='Validation MAE')\n",
    "    plt.xlabel('$\\lambda$')\n",
    "    plt.ylabel('Mean Absolute Error')\n",
    "    plt.title(title)\n",
    "    plt.legend()\n",
    "    plt.show()\n",
    "    \n",
    "def hyp_param_search(model, alphas, X_train_, y_train_log_, X_val_, y_val_log_, name):\n",
    "    train_MAE = np.zeros(alphas.shape[0])\n",
    "    val_MAE = np.zeros(alphas.shape[0])\n",
    "    for a in range(alphas.shape[0]):\n",
    "        reg = model(alpha = alphas[a])\n",
    "        reg.fit(X_train_, y_train_log_)\n",
    "        y_pred_train_log = reg.predict(X_train_)\n",
    "        y_pred_val_log = reg.predict(X_val_)\n",
    "        train_MAE[a] = np.average(abs(np.exp(y_train_log_)-np.exp(y_pred_train_log)))\n",
    "        val_MAE[a] = np.average(abs(np.exp(y_val_log_)-np.exp(y_pred_val_log)))\n",
    "    \n",
    "    plot_hyp_param_search(alphas, train_MAE, val_MAE, \n",
    "                      title = \"Hyperparameter search for \" + name + \" regression\")\n",
    "    \n",
    "    return alphas[np.argmin(val_MAE)]\n",
    "\n",
    "def eval_perf(reg, X_train, y_train_log, X_test, y_test_log):\n",
    "    print('--------------------------------------------------------------------------------------')\n",
    "    reg.fit(X_train, y_train_log)\n",
    "    y_pred_train_log = reg.predict(X_train)\n",
    "    y_pred_test_log = reg.predict(X_test)\n",
    "    print(\"Results from simple regression on the multi-labeled dataset:\")\n",
    "    print('Training MAE using log transformation:', \n",
    "          np.average(abs(np.exp(y_train_log)-np.exp(y_pred_train_log))))\n",
    "    print('test MAE using log transformation:', \n",
    "          np.average(abs(np.exp(y_test_log)-np.exp(y_pred_test_log))))\n",
    "    print('--------------------------------------------------------------------------------------')\n",
    "\n",
    "# Hyperparameter search\n",
    "alphas = 1/np.power(10,np.arange(20))\n",
    "alpha_Ridge = hyp_param_search(linear_model.Ridge, alphas, X_train_, y_train_log_,\n",
    "                               X_val_, y_val_log_, name=\"Ridge\")\n",
    "alpha_Lasso = hyp_param_search(linear_model.Lasso, alphas, X_train_, y_train_log_, \n",
    "                               X_val_, y_val_log_, name=\"Lasso\")\n",
    "\n",
    "# Evaluating the performance of our best hyperparameter on the test set\n",
    "ridgeReg = linear_model.Ridge(alpha = alpha_Ridge)\n",
    "eval_perf(ridgeReg, X_train, y_train_log, X_test, y_test_log)\n",
    "lassoReg = linear_model.Lasso(alpha = alpha_Lasso)\n",
    "eval_perf(lassoReg, X_train, y_train_log, X_test, y_test_log)"
   ]
  },
  {
   "cell_type": "code",
   "execution_count": null,
   "metadata": {},
   "outputs": [],
   "source": [
    "\n",
    "lassoReg.score(X_train, y_train_log)"
   ]
  },
  {
   "cell_type": "markdown",
   "metadata": {},
   "source": [
    "#### Model 3: Support Vector Machines (Support Vector Regressor)"
   ]
  },
  {
   "cell_type": "code",
   "execution_count": null,
   "metadata": {},
   "outputs": [],
   "source": [
    "shrinking_factor = 0.01\n",
    "X_train_small = X_train_[:int(shrinking_factor*X_train_.shape[0])]\n",
    "y_train_log_small = y_train_log_[:int(shrinking_factor*X_train_.shape[0])]\n",
    "\n",
    "# Rough search for a good estimate of C on the interval [1,e-6]\n",
    "C = 1/np.power(10,np.arange(6))\n",
    "training_MAE = []; test_MAE = []\n",
    "for c in C:\n",
    "    SVM = svm.SVR(C=c, kernel='linear', cache_size=1000)\n",
    "    SVM.fit(X_train_small, y_train_log_small)\n",
    "    y_train_pred_log = SVM.predict(X_train_small)\n",
    "    y_val_pred_log = SVM.predict(X_val_)\n",
    "    training_MAE.append(np.average(abs(np.exp(y_train_log_small) - np.exp(y_train_pred_log))))\n",
    "    test_MAE.append(np.average(abs(np.exp(y_val_log_) - np.exp(y_val_pred_log))))\n",
    "\n",
    "plt.plot(np.log10(C), training_MAE,label='training MAE')\n",
    "plt.plot(np.log10(C), test_MAE,label='validation MAE')\n",
    "plt.xlabel('log_10(C)')\n",
    "plt.ylabel('MAE')\n",
    "plt.legend()\n",
    "plt.show()\n",
    "\n",
    "cOpt = C[np.argmin(test_MAE)]\n",
    "print(\"Optimal value of c for validation set:\", cOpt)"
   ]
  },
  {
   "cell_type": "code",
   "execution_count": null,
   "metadata": {},
   "outputs": [],
   "source": [
    "cOpt = C[np.argmin(test_MAE)]\n",
    "print(\"Optimal value of c for validation set:\", cOpt)"
   ]
  },
  {
   "cell_type": "code",
   "execution_count": null,
   "metadata": {},
   "outputs": [],
   "source": [
    "plt.plot(np.log10(C), training_MAE,label='training MAE')\n",
    "plt.plot(np.log10(C), test_MAE,label='validation MAE')\n",
    "plt.xlabel('log_10(C)',  weight='bold').set_fontsize('12')\n",
    "plt.ylabel('MAE',  weight='bold').set_fontsize('12')\n",
    "plt.title('SVM MAE Values for Different C Parameters',  weight='bold').set_fontsize('14')\n",
    "plt.legend()\n",
    "plt.show()"
   ]
  },
  {
   "cell_type": "markdown",
   "metadata": {},
   "source": [
    "#### Evaluate the Performance of SVM"
   ]
  },
  {
   "cell_type": "code",
   "execution_count": null,
   "metadata": {},
   "outputs": [],
   "source": [
    "# Evaluate the model on the test set\n",
    "\n",
    "# Cashed results\n",
    "MAE_train = 1296.36\n",
    "MAE_test = 1308.77\n",
    "\n",
    "modelAll = False # make true if you can wait ~ 30 mins\n",
    "if modelAll:\n",
    "    SVM = svm.SVR(C=cOpt, kernel='linear', cache_size=1000)\n",
    "    SVM.fit(X_train, y_train_log) \n",
    "    y_train_pred_log = SVM.predict(X_train)\n",
    "    y_test_pred_log = SVM.predict(X_test)\n",
    "    MAE_train = np.average(abs(np.exp(y_train_log) - np.exp(y_train_pred_log)))\n",
    "    MAE_test = np.average(abs(np.exp(y_test_log) - np.exp(y_test_pred_log)))\n",
    "    \n",
    "print(\"Training MAE using log transformation:\", MAE_train)\n",
    "print(\"Test MAE using log transformation:\", MAE_test)"
   ]
  },
  {
   "cell_type": "markdown",
   "metadata": {},
   "source": [
    "#### Model 4: Random Forest Model"
   ]
  },
  {
   "cell_type": "code",
   "execution_count": null,
   "metadata": {},
   "outputs": [],
   "source": [
    "## Random Forest Model\n",
    "\n",
    "# Gridsearch and model\n",
    "gridsearch = False\n",
    "if gridsearch:\n",
    "    parameters = {\n",
    "        'max_depth'\n",
    "        :range(50, 500, 50),\n",
    "        'max_features':range(10, 20, 2)\n",
    "    }\n",
    "    rf = RandomForestRegressor(n_estimators=50, oob_score=False)\n",
    "    grid = GridSearchCV(rf, parameters)\n",
    "    grid.fit(X_train, y_train)\n",
    "    print(\"Optimal parameters for the grid are %s with a score of %0.2f\"\n",
    "      % (grid.best_params_, grid.best_score_))\n",
    "\n",
    "    # Use our best RF model \n",
    "    rf = RandomForestRegressor(\n",
    "        n_estimators=50,\n",
    "        max_depth=grid.best_params_['max_depth'],\n",
    "        max_features=grid.best_params_['max_features'],\n",
    "        oob_score=False\n",
    "    )\n",
    "else:\n",
    "    # used cashed results from gridsearch\n",
    "    rf = RandomForestRegressor(n_estimators=50, max_depth=250, max_features=15)\n",
    "\n",
    "# Fit and test it\n",
    "rf.fit(X_train, y_train)\n",
    "y_train_pred = rf.predict(X_train)\n",
    "y_test_pred = rf.predict(X_test)\n",
    "print(\"Training MAE:\",np.average(abs(y_train - y_train_pred)))\n",
    "print(\"Test MAE:\",np.average(abs(y_test - y_test_pred)))"
   ]
  },
  {
   "cell_type": "markdown",
   "metadata": {},
   "source": [
    "#### Evaluating the RF Model"
   ]
  },
  {
   "cell_type": "code",
   "execution_count": null,
   "metadata": {},
   "outputs": [],
   "source": [
    "# Explore which features are the most important in RF model\n",
    "features = list(zip(X_train.columns, rf.feature_importances_))\n",
    "n = 20\n",
    "topFeatures = dict(sorted(features, key = lambda x: x[1], reverse=True)[1:n])\n",
    "\n",
    "fig, ax =  plt.subplots(figsize=(10, 10))\n",
    "ax.barh(list(topFeatures.keys()), list(topFeatures.values()), color='red', ecolor='black')\n",
    "ax.set_yticks(list(topFeatures.keys()))\n",
    "ax.invert_yaxis()\n",
    "ax.set_xlabel('Importance',  weight='bold').set_fontsize('14')\n",
    "ax.set_ylabel('Feature',  weight='bold').set_fontsize('14')\n",
    "ax.set_title(\"Top {} Features\".format(n),  weight='bold').set_fontsize('16')\n",
    "plt.show()"
   ]
  },
  {
   "cell_type": "code",
   "execution_count": null,
   "metadata": {},
   "outputs": [],
   "source": [
    "print(rf.feature_importances_)\n",
    "print(len(rf.feature_importances_))\n",
    "arr = rf.feature_importances_\n",
    "stuff = arr.argsort()[-10:][::-1]\n",
    "len(trainData.columns)\n",
    "temp1 = ['kk','kk','kk','kk','kk','kk','kk','kk','kk','kk']\n",
    "k = 0\n",
    "for i in stuff:\n",
    "\ttemp1[k] = trainData.columns[i]\n",
    "\tk += 1\n",
    "temp2 = ['kk','kk','kk','kk','kk','kk','kk','kk','kk','kk']\n",
    "k = 0\n",
    "for i in stuff:\n",
    "\ttemp2[k] = arr[i]\n",
    "\tk += 1\n",
    "fig, ax = plt.subplots()\n",
    "ax.barh(temp1, temp2, color='green', ecolor='black')\n",
    "ax.set_yticks(temp1)\n",
    "ax.invert_yaxis()\n",
    "ax.set_yticklabels(temp1)\n",
    "ax.set_xlabel('Importance')\n",
    "plt.show()"
   ]
  },
  {
   "cell_type": "code",
   "execution_count": null,
   "metadata": {},
   "outputs": [],
   "source": [
    "# #Evaluation of various combinations of XGB\n",
    "# X_train_, X_val_, y_train_log_, y_val_log_ = train_test_split(\n",
    "#     X_train, y_train_log , test_size=0.2, random_state=20)\n",
    "# #Import the library\n",
    "# from xgboost import XGBRegressor\n",
    "\n",
    "# #Add the n_estimators value to the below list if you want to run the algo\n",
    "# n_list = numpy.array([])\n",
    "\n",
    "# for n_estimators in n_list:\n",
    "#     #Set the base model\n",
    "#     model = XGBRegressor(n_estimators=n_estimators,seed=seed)\n",
    "    \n",
    "#     algo = \"XGB\"\n",
    "\n",
    "#     #Accuracy of the model using all features\n",
    "#     for name,i_cols_list in X_all:\n",
    "#         model.fit(X_train_,y_train_log_)\n",
    "#         result = mean_absolute_error(numpy.expm1(Y_val), numpy.expm1(model.predict(X_val[:,i_cols_list])))\n",
    "#         mae.append(result)\n",
    "#         print(name + \" %s\" % result)\n",
    "        \n",
    "#     comb.append(algo + \" %s\" % n_estimators )\n",
    "\n",
    "# if (len(n_list)==0):\n",
    "#     mae.append(1169)\n",
    "#     comb.append(\"XGB\" + \" %s\" % 1000 )    \n",
    "    \n",
    "# ##Set figure size\n",
    "# plt.rc(\"figure\", figsize=(25, 10))\n",
    "\n",
    "# ##Plot the MAE of all combinations\n",
    "# fig, ax = plt.subplots()\n",
    "# plt.plot(mae)\n",
    "# ##Set the tick names to names of combinations\n",
    "# ax.set_xticks(range(len(comb)))\n",
    "# ax.set_xticklabels(comb,rotation='vertical')\n",
    "# ##Plot the accuracy for all combinations\n",
    "# plt.show()    \n",
    "\n",
    "# #Best estimated performance is 1169 with n=1000"
   ]
  },
  {
   "cell_type": "markdown",
   "metadata": {},
   "source": [
    "#### Model 5: Neural Network: Multi-Layer Perceptron (MLP)"
   ]
  },
  {
   "cell_type": "code",
   "execution_count": null,
   "metadata": {},
   "outputs": [],
   "source": [
    "## Neural Network: Multi-Layer Perceptron (MLP)\n",
    "\n",
    "# Re-loading data\n",
    "trainData = pd.read_csv(\"train.csv\")\n",
    "submissionData = pd.read_csv(\"test.csv\")\n",
    "\n",
    "# dropping correlated variables\n",
    "trainData.drop('cont12',axis=1,inplace=True)\n",
    "submissionData.drop('cont12',axis=1,inplace=True)\n",
    "\n",
    "# drop ID but store in submission data\n",
    "trainData.drop('id',axis=1,inplace=True)\n",
    "NN_y_train = trainData['loss']\n",
    "trainData.drop('loss',axis=1,inplace=True)\n",
    "submissionDataIDs = submissionData['id']\n",
    "submissionData.drop('id',axis=1,inplace=True)\n",
    "\n",
    "# one-hot-encoding \n",
    "NN_train_Data = pd.get_dummies(trainData)\n",
    "NN_sub_Data = pd.get_dummies(submissionData)\n",
    "trainLabels = list(NN_train_Data)\n",
    "subLabels = list(NN_sub_Data)\n",
    "\n",
    "for i in range(len(trainLabels)):\n",
    "    if (not (trainLabels[i] in subLabels)):\n",
    "        NN_train_Data.drop([trainLabels[i]],axis=1,inplace=True)\n",
    "        \n",
    "for i in range(len(subLabels)):\n",
    "    if (not (subLabels[i] in trainLabels)):\n",
    "        NN_sub_Data.drop([subLabels[i]],axis=1,inplace=True)\n",
    "\n",
    "# splitting into training and test set 80/20\n",
    "OneHotEncoded_X_train, OneHotEncoded_X_test, OneHotEncoded_y_train, OneHotEncoded_y_test = \\\n",
    "train_test_split(NN_train_Data, NN_y_train, test_size=0.2, random_state=20)\n",
    "\n",
    "# Feed it in as np.arrays\n",
    "OneHotEncoded_X_train = np.asarray(OneHotEncoded_X_train)\n",
    "OneHotEncoded_y_train = np.asarray(OneHotEncoded_y_train)\n",
    "OneHotEncoded_X_test = np.asarray(OneHotEncoded_X_test) \n",
    "NN_sub_Data = np.asarray(NN_sub_Data)"
   ]
  },
  {
   "cell_type": "code",
   "execution_count": null,
   "metadata": {},
   "outputs": [],
   "source": [
    "from tensorflow.keras.optimizers import SGD, Adam\n",
    "\n",
    "model = Sequential()\n",
    "model.add(Dense(500, input_dim=OneHotEncoded_X_train.shape[1]))\n",
    "model.add(Activation('relu'))\n",
    "model.add(Dense(1))\n",
    "model.compile(loss='mae', optimizer='adam')\n",
    "\n",
    "history = model.fit(OneHotEncoded_X_train, OneHotEncoded_y_train,\n",
    "                    epochs=100, batch_size=128, validation_split=0.2, shuffle=True,verbose=1)\n",
    "\n",
    "# Visualizing the loss\n",
    "plt.plot(history.history['loss'])\n",
    "plt.plot(history.history['val_loss'])\n",
    "plt.ylabel('Mean Absolute Error')\n",
    "plt.xlabel('Iteration')\n",
    "plt.legend(['Training', 'Validation'])\n",
    "plt.show()\n",
    "\n",
    "y_pred = model.predict(OneHotEncoded_X_test)\n",
    "test_error = mean_absolute_error(OneHotEncoded_y_test, y_pred)\n",
    "print(\"Test MAE:\", test_error)"
   ]
  },
  {
   "cell_type": "code",
   "execution_count": null,
   "metadata": {},
   "outputs": [],
   "source": [
    "# Visualizing the loss\n",
    "plt.plot(history.history['loss'])\n",
    "plt.plot(history.history['val_loss'])\n",
    "plt.ylabel('Mean Absolute Error', weight='bold').set_fontsize('14')\n",
    "plt.xlabel('Iteration', weight='bold').set_fontsize('14')\n",
    "plt.title('Training of Neural Network', weight='bold').set_fontsize('16')\n",
    "plt.legend(['Training', 'Validation'])\n",
    "plt.show()"
   ]
  },
  {
   "cell_type": "markdown",
   "metadata": {},
   "source": [
    "#### Predict Using The NN Model"
   ]
  },
  {
   "cell_type": "code",
   "execution_count": null,
   "metadata": {},
   "outputs": [],
   "source": [
    "y_pred = model.predict(OneHotEncoded_X_test)\n",
    "test_error = mean_absolute_error(OneHotEncoded_y_test, y_pred)\n",
    "print(\"Test MAE:\", test_error)"
   ]
  },
  {
   "cell_type": "code",
   "execution_count": null,
   "metadata": {},
   "outputs": [],
   "source": [
    "# Model the submission set (final test) with NN model (Best performance)\n",
    "#y_pred_submission = model.predict(NN_sub_Data)\n",
    "#with open(\"testSubmissionFile.csv\", \"w\") as subfile:\n",
    "    #subfile.write(\"id,loss\\n\")\n",
    "    #for i, prediction in enumerate(list(y_pred_submission)):\n",
    "        #subfile.write(\"%s,%s\\n\"%(submissionDataIDs[i],prediction[0]))"
   ]
  },
  {
   "cell_type": "code",
   "execution_count": null,
   "metadata": {},
   "outputs": [],
   "source": []
  }
 ],
 "metadata": {
  "kernelspec": {
   "display_name": "Python 3",
   "language": "python",
   "name": "python3"
  },
  "language_info": {
   "codemirror_mode": {
    "name": "ipython",
    "version": 3
   },
   "file_extension": ".py",
   "mimetype": "text/x-python",
   "name": "python",
   "nbconvert_exporter": "python",
   "pygments_lexer": "ipython3",
   "version": "3.7.3"
  }
 },
 "nbformat": 4,
 "nbformat_minor": 4
}
